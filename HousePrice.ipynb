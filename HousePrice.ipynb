{
  "nbformat": 4,
  "nbformat_minor": 0,
  "metadata": {
    "colab": {
      "provenance": []
    },
    "kernelspec": {
      "name": "python3",
      "display_name": "Python 3"
    },
    "language_info": {
      "name": "python"
    }
  },
  "cells": [
    {
      "cell_type": "code",
      "execution_count": null,
      "metadata": {
        "id": "AX0GMDSe9vTV"
      },
      "outputs": [],
      "source": [
        "import pandas as pd\n",
        "import numpy as np\n",
        "import seaborn as sns\n",
        "import matplotlib.pyplot as plt\n"
      ]
    },
    {
      "cell_type": "code",
      "source": [
        "train_data = pd.read_csv('train.csv')\n",
        "train_data.head()"
      ],
      "metadata": {
        "id": "ScjVcC38yuAe"
      },
      "execution_count": null,
      "outputs": []
    },
    {
      "cell_type": "code",
      "source": [
        "train_data.shape"
      ],
      "metadata": {
        "colab": {
          "base_uri": "https://localhost:8080/"
        },
        "id": "KSox87dFzD4o",
        "outputId": "827d4b17-952f-4567-e72c-06454c8bfd77"
      },
      "execution_count": null,
      "outputs": [
        {
          "output_type": "execute_result",
          "data": {
            "text/plain": [
              "(1460, 81)"
            ]
          },
          "metadata": {},
          "execution_count": 26
        }
      ]
    },
    {
      "cell_type": "code",
      "source": [
        "train_data.info()"
      ],
      "metadata": {
        "id": "Pjlal5hD0PL5"
      },
      "execution_count": null,
      "outputs": []
    },
    {
      "cell_type": "code",
      "source": [
        "waste_cols = [cname for cname in train_data.columns\n",
        "              if train_data[cname].isna().sum()>100]"
      ],
      "metadata": {
        "id": "NCuLUOCS0eM1"
      },
      "execution_count": null,
      "outputs": []
    },
    {
      "cell_type": "code",
      "source": [
        "waste_cols"
      ],
      "metadata": {
        "colab": {
          "base_uri": "https://localhost:8080/"
        },
        "id": "fElMPM-W1HE2",
        "outputId": "6a158132-1ad8-494a-b0fe-23b503ccd8d7"
      },
      "execution_count": null,
      "outputs": [
        {
          "output_type": "execute_result",
          "data": {
            "text/plain": [
              "['LotFrontage', 'Alley', 'FireplaceQu', 'PoolQC', 'Fence', 'MiscFeature']"
            ]
          },
          "metadata": {},
          "execution_count": 34
        }
      ]
    },
    {
      "cell_type": "code",
      "source": [
        "train_data.drop(waste_cols,axis=1,inplace=True)"
      ],
      "metadata": {
        "id": "6iy2wwom1JCd"
      },
      "execution_count": null,
      "outputs": []
    },
    {
      "cell_type": "code",
      "source": [
        "train_data.info()"
      ],
      "metadata": {
        "id": "6b0WIHiF1Xil",
        "colab": {
          "base_uri": "https://localhost:8080/"
        },
        "outputId": "8de8842c-87fa-4093-9c7c-5ac7961a8692"
      },
      "execution_count": null,
      "outputs": [
        {
          "output_type": "stream",
          "name": "stdout",
          "text": [
            "<class 'pandas.core.frame.DataFrame'>\n",
            "Int64Index: 1338 entries, 0 to 1459\n",
            "Data columns (total 75 columns):\n",
            " #   Column         Non-Null Count  Dtype  \n",
            "---  ------         --------------  -----  \n",
            " 0   Id             1338 non-null   int64  \n",
            " 1   MSSubClass     1338 non-null   int64  \n",
            " 2   MSZoning       1338 non-null   object \n",
            " 3   LotArea        1338 non-null   int64  \n",
            " 4   Street         1338 non-null   object \n",
            " 5   LotShape       1338 non-null   object \n",
            " 6   LandContour    1338 non-null   object \n",
            " 7   Utilities      1338 non-null   object \n",
            " 8   LotConfig      1338 non-null   object \n",
            " 9   LandSlope      1338 non-null   object \n",
            " 10  Neighborhood   1338 non-null   object \n",
            " 11  Condition1     1338 non-null   object \n",
            " 12  Condition2     1338 non-null   object \n",
            " 13  BldgType       1338 non-null   object \n",
            " 14  HouseStyle     1338 non-null   object \n",
            " 15  OverallQual    1338 non-null   int64  \n",
            " 16  OverallCond    1338 non-null   int64  \n",
            " 17  YearBuilt      1338 non-null   int64  \n",
            " 18  YearRemodAdd   1338 non-null   int64  \n",
            " 19  RoofStyle      1338 non-null   object \n",
            " 20  RoofMatl       1338 non-null   object \n",
            " 21  Exterior1st    1338 non-null   object \n",
            " 22  Exterior2nd    1338 non-null   object \n",
            " 23  MasVnrType     1338 non-null   object \n",
            " 24  MasVnrArea     1338 non-null   float64\n",
            " 25  ExterQual      1338 non-null   object \n",
            " 26  ExterCond      1338 non-null   object \n",
            " 27  Foundation     1338 non-null   object \n",
            " 28  BsmtQual       1338 non-null   object \n",
            " 29  BsmtCond       1338 non-null   object \n",
            " 30  BsmtExposure   1338 non-null   object \n",
            " 31  BsmtFinType1   1338 non-null   object \n",
            " 32  BsmtFinSF1     1338 non-null   int64  \n",
            " 33  BsmtFinType2   1338 non-null   object \n",
            " 34  BsmtFinSF2     1338 non-null   int64  \n",
            " 35  BsmtUnfSF      1338 non-null   int64  \n",
            " 36  TotalBsmtSF    1338 non-null   int64  \n",
            " 37  Heating        1338 non-null   object \n",
            " 38  HeatingQC      1338 non-null   object \n",
            " 39  CentralAir     1338 non-null   object \n",
            " 40  Electrical     1338 non-null   object \n",
            " 41  1stFlrSF       1338 non-null   int64  \n",
            " 42  2ndFlrSF       1338 non-null   int64  \n",
            " 43  LowQualFinSF   1338 non-null   int64  \n",
            " 44  GrLivArea      1338 non-null   int64  \n",
            " 45  BsmtFullBath   1338 non-null   int64  \n",
            " 46  BsmtHalfBath   1338 non-null   int64  \n",
            " 47  FullBath       1338 non-null   int64  \n",
            " 48  HalfBath       1338 non-null   int64  \n",
            " 49  BedroomAbvGr   1338 non-null   int64  \n",
            " 50  KitchenAbvGr   1338 non-null   int64  \n",
            " 51  KitchenQual    1338 non-null   object \n",
            " 52  TotRmsAbvGrd   1338 non-null   int64  \n",
            " 53  Functional     1338 non-null   object \n",
            " 54  Fireplaces     1338 non-null   int64  \n",
            " 55  GarageType     1338 non-null   object \n",
            " 56  GarageYrBlt    1338 non-null   float64\n",
            " 57  GarageFinish   1338 non-null   object \n",
            " 58  GarageCars     1338 non-null   int64  \n",
            " 59  GarageArea     1338 non-null   int64  \n",
            " 60  GarageQual     1338 non-null   object \n",
            " 61  GarageCond     1338 non-null   object \n",
            " 62  PavedDrive     1338 non-null   object \n",
            " 63  WoodDeckSF     1338 non-null   int64  \n",
            " 64  OpenPorchSF    1338 non-null   int64  \n",
            " 65  EnclosedPorch  1338 non-null   int64  \n",
            " 66  3SsnPorch      1338 non-null   int64  \n",
            " 67  ScreenPorch    1338 non-null   int64  \n",
            " 68  PoolArea       1338 non-null   int64  \n",
            " 69  MiscVal        1338 non-null   int64  \n",
            " 70  MoSold         1338 non-null   int64  \n",
            " 71  YrSold         1338 non-null   int64  \n",
            " 72  SaleType       1338 non-null   object \n",
            " 73  SaleCondition  1338 non-null   object \n",
            " 74  SalePrice      1338 non-null   int64  \n",
            "dtypes: float64(2), int64(35), object(38)\n",
            "memory usage: 794.4+ KB\n"
          ]
        }
      ]
    },
    {
      "cell_type": "code",
      "source": [
        "train_data.dropna(axis=0,inplace=True)"
      ],
      "metadata": {
        "id": "ae4QsP0_1hMW"
      },
      "execution_count": null,
      "outputs": []
    },
    {
      "cell_type": "code",
      "source": [
        "train_data.shape"
      ],
      "metadata": {
        "id": "eq4DwMWg1mxU"
      },
      "execution_count": null,
      "outputs": []
    },
    {
      "cell_type": "code",
      "source": [
        "plt.figure(figsize=(30,30))\n",
        "sns.heatmap(train_data.corr(),annot=True)"
      ],
      "metadata": {
        "id": "z7DYCqFU1xo7"
      },
      "execution_count": null,
      "outputs": []
    },
    {
      "cell_type": "code",
      "source": [
        "corr = train_data.corr()\n",
        "corr"
      ],
      "metadata": {
        "id": "baMTfk0o-Zvs"
      },
      "execution_count": null,
      "outputs": []
    },
    {
      "cell_type": "code",
      "source": [
        "corr_dict = corr[\"SalePrice\"].sort_values(ascending=False)#.to_dict()\n",
        "corr_dict"
      ],
      "metadata": {
        "colab": {
          "base_uri": "https://localhost:8080/"
        },
        "id": "CtdI18Ri-Vcb",
        "outputId": "54c01448-95db-4c9d-b3de-a06571f0076b"
      },
      "execution_count": null,
      "outputs": [
        {
          "output_type": "execute_result",
          "data": {
            "text/plain": [
              "SalePrice        1.000000\n",
              "OverallQual      0.783546\n",
              "GrLivArea        0.711706\n",
              "GarageCars       0.640154\n",
              "GarageArea       0.607535\n",
              "1stFlrSF         0.604714\n",
              "TotalBsmtSF      0.602042\n",
              "FullBath         0.569313\n",
              "TotRmsAbvGrd     0.551821\n",
              "YearBuilt        0.504297\n",
              "YearRemodAdd     0.501435\n",
              "GarageYrBlt      0.481730\n",
              "MasVnrArea       0.465811\n",
              "Fireplaces       0.445434\n",
              "BsmtFinSF1       0.359677\n",
              "OpenPorchSF      0.322786\n",
              "2ndFlrSF         0.311354\n",
              "WoodDeckSF       0.305983\n",
              "HalfBath         0.258175\n",
              "LotArea          0.254757\n",
              "BsmtFullBath     0.209695\n",
              "BsmtUnfSF        0.191689\n",
              "BedroomAbvGr     0.169266\n",
              "ScreenPorch      0.096624\n",
              "PoolArea         0.091881\n",
              "3SsnPorch        0.042159\n",
              "MoSold           0.041310\n",
              "LowQualFinSF    -0.009992\n",
              "MiscVal         -0.016990\n",
              "YrSold          -0.020451\n",
              "BsmtHalfBath    -0.030175\n",
              "Id              -0.030473\n",
              "BsmtFinSF2      -0.031226\n",
              "MSSubClass      -0.079599\n",
              "OverallCond     -0.108627\n",
              "KitchenAbvGr    -0.111408\n",
              "EnclosedPorch   -0.127385\n",
              "Name: SalePrice, dtype: float64"
            ]
          },
          "metadata": {},
          "execution_count": 75
        }
      ]
    },
    {
      "cell_type": "code",
      "source": [
        "weak_cols = {k:v for k,v in corr_dict.items() if v < 0.1 and v >-0.1} \n",
        "weak_cols"
      ],
      "metadata": {
        "colab": {
          "base_uri": "https://localhost:8080/"
        },
        "id": "Z9s4uQsi-nNc",
        "outputId": "7e337255-0995-4f6f-bcaa-5ca338bcf3dd"
      },
      "execution_count": null,
      "outputs": [
        {
          "output_type": "execute_result",
          "data": {
            "text/plain": [
              "{'ScreenPorch': 0.09662398079807138,\n",
              " 'PoolArea': 0.09188107619026938,\n",
              " '3SsnPorch': 0.04215866955782481,\n",
              " 'MoSold': 0.04130960512942806,\n",
              " 'LowQualFinSF': -0.009992397005934303,\n",
              " 'MiscVal': -0.016989857604916142,\n",
              " 'YrSold': -0.020451016345964478,\n",
              " 'BsmtHalfBath': -0.030175000375615418,\n",
              " 'Id': -0.030473036280148334,\n",
              " 'BsmtFinSF2': -0.03122578784429938,\n",
              " 'MSSubClass': -0.07959851790075431}"
            ]
          },
          "metadata": {},
          "execution_count": 74
        }
      ]
    }
  ]
}