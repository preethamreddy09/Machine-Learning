{
  "nbformat": 4,
  "nbformat_minor": 0,
  "metadata": {
    "colab": {
      "provenance": []
    },
    "kernelspec": {
      "name": "python3",
      "display_name": "Python 3"
    },
    "language_info": {
      "name": "python"
    }
  },
  "cells": [
    {
      "cell_type": "code",
      "execution_count": null,
      "metadata": {
        "id": "uB0S90otl4Q2"
      },
      "outputs": [],
      "source": [
        "import pandas as pd\n",
        "import numpy as np\n",
        "import sklearn as sk\n",
        "\n",
        "pd.set_option('display.float_format', lambda x: '%.1f' % x)\n",
        "# removes scientific notations \n",
        "np.set_printoptions(precision=8,suppress='True')\n"
      ]
    },
    {
      "cell_type": "code",
      "source": [
        "data = pd.read_csv('data1.csv')\n",
        "# data.dtypes\n",
        "# data.isnull()\n",
        "data.isna().sum() # prints the count of null values in each column"
      ],
      "metadata": {
        "id": "JO62gdMLqOxM"
      },
      "execution_count": null,
      "outputs": []
    },
    {
      "cell_type": "code",
      "source": [
        "data.shape # returns size\n",
        "data.head()"
      ],
      "metadata": {
        "id": "D6ijfDrWrdQr"
      },
      "execution_count": null,
      "outputs": []
    },
    {
      "cell_type": "code",
      "source": [
        "indx = data.iloc[:,0:3]  # '.values'  returns in the form of multi di array\n",
        "\n",
        "depy = pd.DataFrame(data.iloc[:,3])"
      ],
      "metadata": {
        "id": "QxTTabCEr9EK"
      },
      "execution_count": null,
      "outputs": []
    },
    {
      "cell_type": "markdown",
      "source": [
        "**Handling Missing Values**"
      ],
      "metadata": {
        "id": "NODfHnHPs8P4"
      }
    },
    {
      "cell_type": "code",
      "source": [
        "# Dropping records(rows) \n",
        "#data.dropna(inplace=True)\n",
        "#data"
      ],
      "metadata": {
        "id": "Aq3Zbn6vtBB5"
      },
      "execution_count": null,
      "outputs": []
    },
    {
      "cell_type": "markdown",
      "source": [
        "**SimpleImputer**"
      ],
      "metadata": {
        "id": "YuHpkECCmpEA"
      }
    },
    {
      "cell_type": "code",
      "source": [
        "# using imputer to add values in place of nan\n",
        "from sklearn.impute import SimpleImputer\n",
        "\n",
        "imputer = SimpleImputer(missing_values=np.nan, strategy='mean')\n",
        "imputer.fit(indx.iloc[:,1:3])\n",
        "indx.iloc[:,1:3] = imputer.transform(indx.iloc[:,1:3])\n",
        "indx"
      ],
      "metadata": {
        "id": "NNtBGS8BaA1u"
      },
      "execution_count": null,
      "outputs": []
    },
    {
      "cell_type": "markdown",
      "source": [
        "**Categorical / Numerical Columns**"
      ],
      "metadata": {
        "id": "iJFoYQuNdTiW"
      }
    },
    {
      "cell_type": "code",
      "source": [
        "cat_col = [cname for cname in indx.columns \n",
        "           if indx[cname].dtype=='object']\n",
        "cat_col\n",
        "\n",
        "num_col = [cname for cname in indx.columns \n",
        "           if indx[cname].dtype in ['int','float']]\n",
        "num_col"
      ],
      "metadata": {
        "colab": {
          "base_uri": "https://localhost:8080/"
        },
        "id": "gt9P2u1AdSxC",
        "outputId": "c97ace3c-2962-4398-de88-9bdb23641060"
      },
      "execution_count": null,
      "outputs": [
        {
          "output_type": "execute_result",
          "data": {
            "text/plain": [
              "['Age', 'Salary']"
            ]
          },
          "metadata": {},
          "execution_count": 7
        }
      ]
    },
    {
      "cell_type": "markdown",
      "source": [
        "**OneHotEncoder >> Categorical Columns with more than 2type of fields**"
      ],
      "metadata": {
        "id": "vxm1CKRgmve7"
      }
    },
    {
      "cell_type": "code",
      "source": [
        "from sklearn.preprocessing import OneHotEncoder\n",
        "\n",
        "ohe = OneHotEncoder()\n",
        "en_x = pd.DataFrame(ohe.fit_transform(indx[cat_col]).toarray())\n",
        "en_x"
      ],
      "metadata": {
        "id": "4QNozIclitxT"
      },
      "execution_count": null,
      "outputs": []
    },
    {
      "cell_type": "code",
      "source": [
        "indx.drop('City',axis=1,inplace=True)\n",
        "indx = indx.join(en_x)\n",
        "indx"
      ],
      "metadata": {
        "id": "SUvYa42xpjXS"
      },
      "execution_count": null,
      "outputs": []
    },
    {
      "cell_type": "markdown",
      "source": [
        "**Label Encoder >> For binary categorical columns**"
      ],
      "metadata": {
        "id": "taAGYcuCsZvr"
      }
    },
    {
      "cell_type": "code",
      "source": [
        "from sklearn.preprocessing import LabelEncoder\n",
        "\n",
        "le = LabelEncoder()\n",
        "depy['Bonus'] = le.fit_transform(depy['Bonus'])\n",
        "depy"
      ],
      "metadata": {
        "id": "onsV3o0_ahig"
      },
      "execution_count": null,
      "outputs": []
    },
    {
      "cell_type": "markdown",
      "source": [
        "**Simple plreprocessing technique**"
      ],
      "metadata": {
        "id": "9UalQYHYFSoK"
      }
    },
    {
      "cell_type": "code",
      "source": [
        "from sklearn.preprocessing import StandardScaler, OneHotEncoder\n",
        "from sklearn.compose import make_column_transformer\n",
        "\n",
        "preprocessor = make_column_transformer(\n",
        "    (StandardScaler(), features_num),\n",
        "    (OneHotEncoder(), features_cat),\n",
        ")\n",
        "\n",
        "X_train = preprocessor.fit_transform(X_train)"
      ],
      "metadata": {
        "id": "8jwjDxW5FYbN"
      },
      "execution_count": null,
      "outputs": []
    },
    {
      "cell_type": "code",
      "source": [
        "from sklearn.impute import SimpleImputer\n",
        "from sklearn.pipeline import make_pipeline\n",
        "\n",
        "transformer_num = make_pipeline(\n",
        "    SimpleImputer(strategy=\"constant\"), # there are a few missing values\n",
        "    StandardScaler(),\n",
        ")\n",
        "transformer_cat = make_pipeline(\n",
        "    SimpleImputer(strategy=\"constant\", fill_value=\"NA\"),\n",
        "    OneHotEncoder(handle_unknown='ignore'),\n",
        ")\n",
        "\n",
        "preprocessor = make_column_transformer(\n",
        "    (transformer_num, features_num),\n",
        "    (transformer_cat, features_cat),\n",
        ")"
      ],
      "metadata": {
        "id": "YqKAST0ufEJ4"
      },
      "execution_count": null,
      "outputs": []
    },
    {
      "cell_type": "markdown",
      "source": [
        "**Train Test Split**"
      ],
      "metadata": {
        "id": "H8sS38sLX2XX"
      }
    },
    {
      "cell_type": "code",
      "source": [
        "from sklearn.model_selection import train_test_split\n",
        "\n",
        "train_x, test_x, train_y, test_y = train_test_split(indx, depy,test_size=0.25,random_state=1)"
      ],
      "metadata": {
        "id": "3UNnpBSJX7wl"
      },
      "execution_count": null,
      "outputs": []
    },
    {
      "cell_type": "markdown",
      "source": [
        "**Outlier Detection and Removal**"
      ],
      "metadata": {
        "id": "Bui7euqBa1u7"
      }
    },
    {
      "cell_type": "code",
      "source": [
        "import matplotlib.pyplot as plt\n",
        "import seaborn as sb\n",
        "\n",
        "#sb.scatterplot(x='Salary',y='Age',hue='Bonus',data=data)\n",
        "plt.hist(data['Age'],bins=15)"
      ],
      "metadata": {
        "id": "NVJ_Rb21ZYJK"
      },
      "execution_count": null,
      "outputs": []
    },
    {
      "cell_type": "code",
      "source": [
        "lower_limit=data['Age'].quantile(0.05) # \n",
        "lower_limit # Age which is < 24.6 is considered as lower limit\n",
        "\n",
        "upper_limit=data['Age'].quantile(0.95)\n",
        "upper_limit\n",
        "#data[data['Age']>upper_limit]\n",
        "#data[data['Age']<lower_limit]"
      ],
      "metadata": {
        "id": "xdIBSuOsd9_m"
      },
      "execution_count": null,
      "outputs": []
    },
    {
      "cell_type": "code",
      "source": [
        "data=data[(data['Age']>lower_limit) & (data['Age']<upper_limit)]\n",
        "data.head()"
      ],
      "metadata": {
        "id": "HUly3wz4h12X"
      },
      "execution_count": null,
      "outputs": []
    },
    {
      "cell_type": "markdown",
      "source": [
        "**Ordinal Data to Numerical Data**\n",
        " > Column values such as [bad, avg, good, very good] is ordinal data"
      ],
      "metadata": {
        "id": "PClR4sylkENf"
      }
    },
    {
      "cell_type": "code",
      "source": [
        "cricketers= {'Name':['Virat','Dhoni','Rohit','Dhawan','Hardik','Gayle','Bhuvi','Boult','Nabi','Bravo'],\n",
        "            'Age':[26,32,28,23,25,30,29,30,21,22],\n",
        "            'Rating':['Good','Best','Avg','Good','Avg','Best','Good','Good','Avg','Best']}\n",
        "cricketers = pd.DataFrame(cricketers)\n",
        "cricketers.head()"
      ],
      "metadata": {
        "id": "YJh8GJxqkIiE"
      },
      "execution_count": null,
      "outputs": []
    },
    {
      "cell_type": "code",
      "source": [
        "data_map = {'Good':3,\n",
        "                'Best':5,\n",
        "                'Avg':1}\n",
        "data_map\n",
        "\n",
        "cricketers['Rating'] = cricketers['Rating'].map(data_map)\n",
        "cricketers.head()"
      ],
      "metadata": {
        "id": "IQmhyKxGmxz6"
      },
      "execution_count": null,
      "outputs": []
    },
    {
      "cell_type": "markdown",
      "source": [
        "**Data Binning >> Grouping of data into different groups**"
      ],
      "metadata": {
        "id": "0LYmLAghtJ5R"
      }
    },
    {
      "cell_type": "code",
      "source": [
        "def binningfun(col,cut_points,labels=None):\n",
        "  max_val = col.max()\n",
        "  min_val = col.min()\n",
        "  break_points = [min_val] + cut_points + [max_val]\n",
        "  if not labels:\n",
        "    labels = range(len(cut_points)+1)\n",
        "  col_bin = pd.cut(col,bins=break_points,labels=labels,include_lowest = True)\n",
        "  return col_bin"
      ],
      "metadata": {
        "id": "mFtzp_gjtS_5"
      },
      "execution_count": null,
      "outputs": []
    },
    {
      "cell_type": "code",
      "source": [
        "cut_points = [25,30]\n",
        "labels = ['Young','Senior','Super Senior']\n",
        "cricketers['Experiance'] = binningfun(cricketers['Age'], cut_points, labels)\n",
        "cricketers.head()"
      ],
      "metadata": {
        "id": "DCrxquOVvkyY"
      },
      "execution_count": null,
      "outputs": []
    },
    {
      "cell_type": "code",
      "source": [
        "# OneHotEncoder\n",
        "from sklearn.preprocessing import OneHotEncoder\n",
        "ohe = OneHotEncoder()\n",
        "en_x  = pd.DataFrame(ohe.fit_transform(cricketers[['Experiance']]).toarray())\n",
        "en_x.head()\n",
        "\n",
        "cricketers.join(en_x)\n",
        "cricketers.drop('Age',axis=1,inplace=True)\n",
        "cricketers.head()"
      ],
      "metadata": {
        "id": "n68iGRpYEF9R"
      },
      "execution_count": null,
      "outputs": []
    },
    {
      "cell_type": "code",
      "source": [
        "cricketers = cricketers.join(en_x)\n",
        "cricketers.drop('Experiance',axis=1,inplace=True)\n",
        "cricketers.head()"
      ],
      "metadata": {
        "id": "m9bATzjwF1G7"
      },
      "execution_count": null,
      "outputs": []
    },
    {
      "cell_type": "markdown",
      "source": [
        "**Removal of Duplicate Records**"
      ],
      "metadata": {
        "id": "OkH1XOH9HMLq"
      }
    },
    {
      "cell_type": "code",
      "source": [
        "dupdata = pd.read_csv('Duplicate_preproc.csv')\n",
        "dupdata"
      ],
      "metadata": {
        "id": "pRsG2WtAHQXm"
      },
      "execution_count": null,
      "outputs": []
    },
    {
      "cell_type": "code",
      "source": [
        "dupdata.drop_duplicates()"
      ],
      "metadata": {
        "id": "DyjgxQ9kIy61"
      },
      "execution_count": null,
      "outputs": []
    },
    {
      "cell_type": "code",
      "source": [
        "dupdata.drop_duplicates(subset=['Car']) # one car from each company will be present"
      ],
      "metadata": {
        "id": "zF-Afy4hJNjH"
      },
      "execution_count": null,
      "outputs": []
    },
    {
      "cell_type": "markdown",
      "source": [
        "**Merging** **Multiple** **Datasets**"
      ],
      "metadata": {
        "id": "S_dLBFFmJtiN"
      }
    },
    {
      "cell_type": "code",
      "source": [],
      "metadata": {
        "id": "w8dYUnRWJ1ug"
      },
      "execution_count": null,
      "outputs": []
    }
  ]
}