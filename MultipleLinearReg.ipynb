{
  "nbformat": 4,
  "nbformat_minor": 0,
  "metadata": {
    "colab": {
      "provenance": []
    },
    "kernelspec": {
      "name": "python3",
      "display_name": "Python 3"
    },
    "language_info": {
      "name": "python"
    }
  },
  "cells": [
    {
      "cell_type": "code",
      "execution_count": null,
      "metadata": {
        "id": "ak1g9AJCYSGk"
      },
      "outputs": [],
      "source": [
        "import pandas as pd\n",
        "import numpy as np"
      ]
    },
    {
      "cell_type": "code",
      "source": [
        "df = pd.read_csv('CarPrice_Assignment.csv')\n",
        "df.columns\n",
        "df.shape"
      ],
      "metadata": {
        "colab": {
          "base_uri": "https://localhost:8080/"
        },
        "id": "kf5WAggWYgRG",
        "outputId": "1f7593f5-01f9-45aa-f38e-5d9ba92f31ab"
      },
      "execution_count": null,
      "outputs": [
        {
          "output_type": "execute_result",
          "data": {
            "text/plain": [
              "(205, 26)"
            ]
          },
          "metadata": {},
          "execution_count": 2
        }
      ]
    },
    {
      "cell_type": "code",
      "source": [
        "df.dtypes"
      ],
      "metadata": {
        "id": "QN9dnxAeaTxj"
      },
      "execution_count": null,
      "outputs": []
    },
    {
      "cell_type": "code",
      "source": [
        "df.isna().sum()"
      ],
      "metadata": {
        "id": "hLhhiM3oZNhj"
      },
      "execution_count": null,
      "outputs": []
    },
    {
      "cell_type": "code",
      "source": [
        "y = pd.DataFrame(df['price'])\n",
        "y.head()"
      ],
      "metadata": {
        "id": "EFYuVLJpY-O1"
      },
      "execution_count": null,
      "outputs": []
    },
    {
      "cell_type": "code",
      "source": [
        "df.corr()"
      ],
      "metadata": {
        "id": "QfVUyN0nZwNq"
      },
      "execution_count": null,
      "outputs": []
    },
    {
      "cell_type": "code",
      "source": [
        "num_cols = [cname for cname in df.columns if df[cname].dtype in ['int','float']]\n",
        "num_cols\n",
        "\n",
        "x = pd.DataFrame(df[num_cols])\n",
        "x.drop('price',axis=1,inplace=True)\n",
        "x.head()"
      ],
      "metadata": {
        "id": "VcAPR2JXcCsS"
      },
      "execution_count": null,
      "outputs": []
    },
    {
      "cell_type": "code",
      "source": [
        "from sklearn.model_selection import train_test_split\n",
        "\n",
        "train_x, test_x, train_y, test_y = train_test_split(x,y,train_size=0.75,test_size=0.25,random_state=1)"
      ],
      "metadata": {
        "id": "-n-eWRp_dBw2"
      },
      "execution_count": null,
      "outputs": []
    },
    {
      "cell_type": "code",
      "source": [
        "test_x.shape"
      ],
      "metadata": {
        "colab": {
          "base_uri": "https://localhost:8080/"
        },
        "id": "W2aYqj7Fdedv",
        "outputId": "0fbd2a8d-b104-40bf-e5f2-00f49f5b999a"
      },
      "execution_count": null,
      "outputs": [
        {
          "output_type": "execute_result",
          "data": {
            "text/plain": [
              "(52, 15)"
            ]
          },
          "metadata": {},
          "execution_count": 9
        }
      ]
    },
    {
      "cell_type": "code",
      "source": [
        "test_y"
      ],
      "metadata": {
        "id": "PK9zTynar_oM"
      },
      "execution_count": null,
      "outputs": []
    },
    {
      "cell_type": "code",
      "source": [
        "from sklearn import linear_model\n",
        "\n",
        "mlr = linear_model.LinearRegression()\n",
        "mlr.fit(train_x,train_y)\n",
        "\n",
        "pred_y = mlr.predict(test_x)"
      ],
      "metadata": {
        "id": "vWDLXNE0eBIg"
      },
      "execution_count": null,
      "outputs": []
    },
    {
      "cell_type": "code",
      "source": [
        "from sklearn.metrics import mean_absolute_error\n",
        "from sklearn.metrics import r2_score\n",
        "\n",
        "mean_error = mean_absolute_error(test_y,pred_y)\n",
        "mean_error"
      ],
      "metadata": {
        "colab": {
          "base_uri": "https://localhost:8080/"
        },
        "id": "dlVQhKiUfBhJ",
        "outputId": "ae4a54ae-58f4-4dc6-c445-8f8371961882"
      },
      "execution_count": null,
      "outputs": [
        {
          "output_type": "execute_result",
          "data": {
            "text/plain": [
              "2188.4231775878184"
            ]
          },
          "metadata": {},
          "execution_count": 9
        }
      ]
    },
    {
      "cell_type": "code",
      "source": [
        "r2_error = r2_score(test_y,pred_y)\n",
        "r2_error"
      ],
      "metadata": {
        "colab": {
          "base_uri": "https://localhost:8080/"
        },
        "id": "mCImTGUvfYCE",
        "outputId": "a411d689-e325-4cb6-e587-d4a2865319dd"
      },
      "execution_count": null,
      "outputs": [
        {
          "output_type": "execute_result",
          "data": {
            "text/plain": [
              "0.8541170042036915"
            ]
          },
          "metadata": {},
          "execution_count": 10
        }
      ]
    },
    {
      "cell_type": "markdown",
      "source": [
        "**Decission Tree**"
      ],
      "metadata": {
        "id": "6Pg8owBJ2UJg"
      }
    },
    {
      "cell_type": "code",
      "source": [
        "from sklearn.tree import DecisionTreeRegressor\n",
        "\n",
        "dtr = DecisionTreeRegressor(max_depth=5)\n",
        "dtr.fit(train_x,train_y)\n",
        "pred_y2 = dtr.predict(test_x)\n",
        "mean_error2 = mean_absolute_error(test_y,pred_y2)\n",
        "mean_error2"
      ],
      "metadata": {
        "colab": {
          "base_uri": "https://localhost:8080/"
        },
        "id": "zoufuCwEhkkf",
        "outputId": "e557177c-5c3d-40d9-a408-873be878c6dc"
      },
      "execution_count": null,
      "outputs": [
        {
          "output_type": "execute_result",
          "data": {
            "text/plain": [
              "1709.9568032001184"
            ]
          },
          "metadata": {},
          "execution_count": 11
        }
      ]
    },
    {
      "cell_type": "code",
      "source": [
        "r2_error2 = r2_score(test_y,pred_y2)\n",
        "r2_error2"
      ],
      "metadata": {
        "id": "QtyiNaakrIAs",
        "colab": {
          "base_uri": "https://localhost:8080/"
        },
        "outputId": "96830370-23b1-409d-8693-872a15020ab5"
      },
      "execution_count": null,
      "outputs": [
        {
          "output_type": "execute_result",
          "data": {
            "text/plain": [
              "0.8994705661888237"
            ]
          },
          "metadata": {},
          "execution_count": 12
        }
      ]
    },
    {
      "cell_type": "markdown",
      "source": [
        "**Random** **Forest**\n",
        " > It is an ensemble method which combines many predictions"
      ],
      "metadata": {
        "id": "srHALDKB2Ca1"
      }
    },
    {
      "cell_type": "code",
      "source": [
        "from sklearn.ensemble import RandomForestRegressor\n",
        "\n",
        "rfg = RandomForestRegressor(n_estimators=10)\n",
        "rfg.fit(train_x,train_y)\n",
        "pred_y3 = rfg.predict(test_x)\n",
        "mean_error3 = mean_absolute_error(test_y,pred_y3)\n",
        "mean_error3"
      ],
      "metadata": {
        "id": "s8j_xmEGsmSI",
        "colab": {
          "base_uri": "https://localhost:8080/"
        },
        "outputId": "b3aea5da-07e2-4c6f-bde4-e4d72e6e1976"
      },
      "execution_count": null,
      "outputs": [
        {
          "output_type": "stream",
          "name": "stderr",
          "text": [
            "/usr/local/lib/python3.7/dist-packages/ipykernel_launcher.py:4: DataConversionWarning: A column-vector y was passed when a 1d array was expected. Please change the shape of y to (n_samples,), for example using ravel().\n",
            "  after removing the cwd from sys.path.\n"
          ]
        },
        {
          "output_type": "execute_result",
          "data": {
            "text/plain": [
              "1546.4955134615386"
            ]
          },
          "metadata": {},
          "execution_count": 13
        }
      ]
    },
    {
      "cell_type": "code",
      "source": [
        "r2_error3 = r2_score(test_y,pred_y3)\n",
        "r2_error3"
      ],
      "metadata": {
        "id": "D697UjG0tT_H",
        "colab": {
          "base_uri": "https://localhost:8080/"
        },
        "outputId": "96841a89-ed45-4672-824a-898d86f0acf4"
      },
      "execution_count": null,
      "outputs": [
        {
          "output_type": "execute_result",
          "data": {
            "text/plain": [
              "0.9136921612907619"
            ]
          },
          "metadata": {},
          "execution_count": 14
        }
      ]
    },
    {
      "cell_type": "markdown",
      "source": [
        "Data Visualization"
      ],
      "metadata": {
        "id": "wMyjDrtMw5cC"
      }
    },
    {
      "cell_type": "code",
      "source": [
        "import seaborn as sb"
      ],
      "metadata": {
        "id": "RISburrfw7_r"
      },
      "execution_count": null,
      "outputs": []
    },
    {
      "cell_type": "code",
      "source": [
        "df.columns"
      ],
      "metadata": {
        "id": "u1OQRLYcxOp9"
      },
      "execution_count": null,
      "outputs": []
    },
    {
      "cell_type": "code",
      "source": [
        "sb.relplot(x='horsepower',y='price',hue='peakrpm',data=df)"
      ],
      "metadata": {
        "id": "UnRlIpeWxBb2"
      },
      "execution_count": null,
      "outputs": []
    },
    {
      "cell_type": "code",
      "source": [
        "sb.histplot(x='price',data=df,binwidth=5000)"
      ],
      "metadata": {
        "id": "vNe8o82qxzBW"
      },
      "execution_count": null,
      "outputs": []
    },
    {
      "cell_type": "markdown",
      "source": [
        "**CROSS** **VALIDATION**"
      ],
      "metadata": {
        "id": "j_R3r9SywgRF"
      }
    },
    {
      "cell_type": "code",
      "source": [
        "from sklearn.pipeline import Pipeline\n",
        "# The purpose of the pipeline is to assemble several steps that can be cross-validated together \n",
        "#     while setting different parameters.\n",
        "pipe = Pipeline(steps = [('model',RandomForestRegressor(n_estimators=10,random_state=0))])\n"
      ],
      "metadata": {
        "id": "X96Fw6Clwk61"
      },
      "execution_count": null,
      "outputs": []
    },
    {
      "cell_type": "code",
      "source": [
        "from sklearn.model_selection import cross_val_score\n",
        "\n",
        "\n",
        "scores = -1 * cross_val_score(pipe, x, y,\n",
        "                              cv=5,\n",
        "                              scoring='neg_mean_absolute_error')\n",
        "\n",
        "scores.mean()"
      ],
      "metadata": {
        "id": "lfFAmnEVyZF-"
      },
      "execution_count": null,
      "outputs": []
    },
    {
      "cell_type": "markdown",
      "source": [
        "**XGBOOST** : Extreme Gradient Boosting(ensemble method)"
      ],
      "metadata": {
        "id": "xS3CI9k21x5q"
      }
    },
    {
      "cell_type": "code",
      "source": [
        "from xgboost import XGBRegressor\n",
        "\n",
        "xgb = XGBRegressor(n_estimators=250,learning_rate=0.1)\n",
        "xgb.fit(train_x,train_y)\n",
        "y_predict = xgb.predict(test_x)\n",
        "mean_error4 = mean_absolute_error(test_y,y_predict)\n",
        "mean_error4"
      ],
      "metadata": {
        "id": "-3VyAUw0168G"
      },
      "execution_count": null,
      "outputs": []
    }
  ]
}